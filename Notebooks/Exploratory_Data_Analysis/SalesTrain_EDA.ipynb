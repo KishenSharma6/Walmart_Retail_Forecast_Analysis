{
 "cells": [
  {
   "cell_type": "markdown",
   "id": "d7d5381b",
   "metadata": {},
   "source": [
    "From the M5 Competition Guidelines:\n",
    "\n",
    "File 3: “sales_train.csv”\n",
    "Contains the historical daily unit sales data per product and store.\n",
    "- item_id: The id of the product.\n",
    "- dept_id: The id of the department the product belongs to.\n",
    "- cat_id: The id of the category the product belongs to.\n",
    "- store_id: The id of the store where the product is sold.\n",
    "- state_id: The State where the store is located."
   ]
  },
  {
   "cell_type": "code",
   "execution_count": 1,
   "id": "a99be9fa",
   "metadata": {},
   "outputs": [],
   "source": [
    "import pandas as pd\n",
    "import numpy as np\n",
    "import matplotlib.pyplot as plt\n",
    "import os\n",
    "import yaml"
   ]
  }
 ],
 "metadata": {
  "kernelspec": {
   "display_name": "DeepLearning",
   "language": "python",
   "name": "deeplearning"
  },
  "language_info": {
   "codemirror_mode": {
    "name": "ipython",
    "version": 3
   },
   "file_extension": ".py",
   "mimetype": "text/x-python",
   "name": "python",
   "nbconvert_exporter": "python",
   "pygments_lexer": "ipython3",
   "version": "3.8.8"
  }
 },
 "nbformat": 4,
 "nbformat_minor": 5
}
